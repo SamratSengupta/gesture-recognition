{
 "cells": [
  {
   "cell_type": "markdown",
   "metadata": {},
   "source": [
    "# Gesture Recognition\n",
    "In this group project, you are going to build a 3D Conv model that will be able to predict the 5 gestures correctly. Please import the following libraries to get started."
   ]
  },
  {
   "cell_type": "code",
   "execution_count": 1,
   "metadata": {},
   "outputs": [],
   "source": [
    "import numpy as np\n",
    "import os\n",
    "from scipy.misc import imread, imresize\n",
    "import datetime\n",
    "import os\n",
    "import cv2\n",
    "from PIL import Image\n",
    "from numpy import expand_dims"
   ]
  },
  {
   "cell_type": "markdown",
   "metadata": {},
   "source": [
    "We set the random seed so that the results don't vary drastically."
   ]
  },
  {
   "cell_type": "code",
   "execution_count": 2,
   "metadata": {},
   "outputs": [
    {
     "name": "stderr",
     "output_type": "stream",
     "text": [
      "Using TensorFlow backend.\n"
     ]
    }
   ],
   "source": [
    "np.random.seed(30)\n",
    "import random as rn\n",
    "rn.seed(30)\n",
    "import keras\n",
    "from keras import backend as K\n",
    "import tensorflow as tf\n",
    "tf.set_random_seed(30)"
   ]
  },
  {
   "cell_type": "markdown",
   "metadata": {},
   "source": [
    "In this block, you read the folder names for training and validation. You also set the `batch_size` here. Note that you set the batch size in such a way that you are able to use the GPU in full capacity. You keep increasing the batch size until the machine throws an error."
   ]
  },
  {
   "cell_type": "code",
   "execution_count": 3,
   "metadata": {},
   "outputs": [],
   "source": [
    "train_doc = np.random.permutation(open('./Project_data/train.csv').readlines())\n",
    "val_doc = np.random.permutation(open('./Project_data/val.csv').readlines())\n",
    "batch_size = 20"
   ]
  },
  {
   "cell_type": "code",
   "execution_count": 4,
   "metadata": {},
   "outputs": [],
   "source": [
    "def createList(r1, r2): \n",
    "    return [item for item in range(r1, r2+1)]"
   ]
  },
  {
   "cell_type": "code",
   "execution_count": 5,
   "metadata": {},
   "outputs": [],
   "source": [
    "def crop_image(image):     \n",
    "    # Cropping non symmetric frames\n",
    "    if image.shape[0] != image.shape[1]:\n",
    "        image=image[0:120,20:140]\n",
    "    return image"
   ]
  },
  {
   "cell_type": "code",
   "execution_count": 6,
   "metadata": {},
   "outputs": [],
   "source": [
    "def resize_image(image,nb_rows,nb_cols):        \n",
    "    resized = cv2.resize(image, (nb_rows,nb_cols), interpolation = cv2.INTER_AREA)\n",
    "    return resized"
   ]
  },
  {
   "cell_type": "code",
   "execution_count": 7,
   "metadata": {},
   "outputs": [],
   "source": [
    "#we are using batch normalization techniques in the model instead\n",
    "def normalize_image(image):\n",
    "    #norm_image = image - np.percentile(image,5)/ np.percentile(image,95) - np.percentile(image,5)\n",
    "    norm_image = image - np.min(image)/np.max(image) - np.min(image)\n",
    "    return image/127.5-1"
   ]
  },
  {
   "cell_type": "code",
   "execution_count": 8,
   "metadata": {},
   "outputs": [],
   "source": [
    "# Parameters initialization\n",
    "nb_rows = 120  \n",
    "nb_cols = 120 \n",
    "nb_frames = 30  \n",
    "nb_channel = 3# number of channels in images 3 for color(RGB) and 1 for Gray\n",
    "batch_size=10\n",
    "nb_labels = 5"
   ]
  },
  {
   "cell_type": "markdown",
   "metadata": {},
   "source": [
    "## Generator\n",
    "This is one of the most important part of the code. The overall structure of the generator has been given. In the generator, you are going to preprocess the images as you have images of 2 different dimensions as well as create a batch of video frames. You have to experiment with `img_idx`, `y`,`z` and normalization such that you get high accuracy."
   ]
  },
  {
   "cell_type": "code",
   "execution_count": 9,
   "metadata": {},
   "outputs": [],
   "source": [
    "\n",
    "def b2g_image_generator(source_path, folder_list, batch_size):\n",
    "    batchnum_lst=[]    \n",
    "    img_idx = createList(0,nb_frames-1) \n",
    "    \n",
    "    while True:\n",
    "        t = np.random.permutation(folder_list)\n",
    "        num_batches = int(len(folder_list)/batch_size)\n",
    "        for batch in range(num_batches): # we iterate over the number of batches\n",
    "            batch_data = np.zeros((batch_size,nb_frames,nb_rows,nb_cols,nb_channel)) # x is the number of images you use for each video, (y,z) is the final size of the input images and 3 is the number of channels RGB\n",
    "            batch_labels = np.zeros((batch_size,nb_labels)) # batch_labels is the one hot representation of the output\n",
    "\n",
    "            for folder in range(batch_size): # iterate over the batch_size\n",
    "                imgs = os.listdir(source_path+'/'+ t[folder + (batch*batch_size)].split(';')[0]) # read all the images in the folder\n",
    "                batch_labels[folder, int(t[folder + (batch*batch_size)].strip().split(';')[2])] = 1\n",
    "\n",
    "                for idx,item in enumerate(img_idx): #  Iterate iver the frames/images of a folder to read them in\n",
    "                    image = imread(source_path+'/'+ t[folder + (batch*batch_size)].strip().split(';')[0]+'/'+imgs[item]).astype(np.float32)\n",
    "                    batchnum_lst.append(t[folder + (batch*batch_size)])\n",
    "                    #crop the images and resize them. Note that the images are of 2 different shape \n",
    "                    #and the conv3D will throw error if the inputs in a batch have different shapes\n",
    "                    #normalize check discussion forum for cropping and resizing \n",
    "\n",
    "\n",
    "                    gray = cv2.cvtColor(image, cv2.COLOR_BGR2GRAY)\n",
    "                    cropped = crop_image(gray)\n",
    "                    resized = resize_image(cropped,nb_rows,nb_cols)                \n",
    "                    batch_img = expand_dims(resized, axis=2)\n",
    "\n",
    "                    batch_data[folder,idx,:,:,:] = batch_img\n",
    "    #               batch_data[folder,idx,:,:,1] = norm_image[:,:,1]\n",
    "    #               batch_data[folder,idx,:,:,2] = norm_image[:,:,2]\n",
    "\n",
    "                batch_labels[folder, int(t[folder + (batch*batch_size)].strip().split(';')[2])] = 1\n",
    "            yield batch_data, batch_labels #you yield the batch_data and the batch_labels, remember what does yield do\n",
    "\n",
    "\n",
    "        # write the code for the remaining data points which are left after full batches\n",
    "       \n",
    "        diff_lst = list(set(t.tolist()).difference(set(batchnum_lst)))\n",
    "        rem_batch_size = len(diff_lst)\n",
    "        \n",
    "        if rem_batch_size > 0:\n",
    "            \n",
    "            batch_data = np.zeros((rem_batch_size,nb_frames,nb_rows,nb_cols,nb_channel))\n",
    "            batch_labels = np.zeros((rem_batch_size,nb_labels))\n",
    "\n",
    "            for folder_idx,folder in enumerate(diff_lst):\n",
    "\n",
    "                file_dir = folder.split(';')[0]           \n",
    "                label = int(folder.split(';')[2])\n",
    "                imgs = os.listdir(source_path + '/' + file_dir)\n",
    "\n",
    "                for idx,img in enumerate(imgs):\n",
    "\n",
    "                    image = imread(source_path + '/' + file_dir +'/'+ img).astype(np.float32)\n",
    "                    \n",
    "                    gray = cv2.cvtColor(image, cv2.COLOR_BGR2GRAY)\n",
    "                    cropped = crop_image(gray)\n",
    "                    resized = resize_image(cropped,nb_rows,nb_cols)                \n",
    "                    batch_img = expand_dims(resized, axis=2)\n",
    "                    \n",
    "                    batch_data[folder_idx,idx,:,:,:]=batch_img\n",
    "\n",
    "                batch_labels[folder_idx,label]=1\n",
    "                \n",
    "            yield batch_data,batch_labels "
   ]
  },
  {
   "cell_type": "code",
   "execution_count": 10,
   "metadata": {},
   "outputs": [],
   "source": [
    "\n",
    "def rgb_image_generator(source_path, folder_list, batch_size):\n",
    "    batchnum_lst=[]    \n",
    "    img_idx = createList(0,nb_frames-1)    \n",
    "    print('folder_lst ',len(folder_list))\n",
    "    \n",
    "    while True:\n",
    "        t = np.random.permutation(folder_list)\n",
    "        num_batches = int(len(folder_list)/batch_size)\n",
    "        for batch in range(num_batches): # we iterate over the number of batches\n",
    "            batch_data = np.zeros((batch_size,nb_frames,nb_rows,nb_cols,nb_channel)) # x is the number of images you use for each video, (y,z) is the final size of the input images and 3 is the number of channels RGB\n",
    "            batch_labels = np.zeros((batch_size,nb_labels)) # batch_labels is the one hot representation of the output\n",
    "\n",
    "            for folder in range(batch_size): # iterate over the batch_size\n",
    "                imgs = os.listdir(source_path+'/'+ t[folder + (batch*batch_size)].split(';')[0]) # read all the images in the folder\n",
    "                batch_labels[folder, int(t[folder + (batch*batch_size)].strip().split(';')[2])] = 1\n",
    "\n",
    "                for idx,item in enumerate(img_idx): #  Iterate iver the frames/images of a folder to read them in\n",
    "                    image = imread(source_path+'/'+ t[folder + (batch*batch_size)].strip().split(';')[0]+'/'+imgs[item]).astype(np.float32)\n",
    "                    batchnum_lst.append(t[folder + (batch*batch_size)])\n",
    "                    #crop the images and resize them. Note that the images are of 2 different shape \n",
    "                    #and the conv3D will throw error if the inputs in a batch have different shapes\n",
    "                    #normalize check discussion forum for cropping and resizing \n",
    "\n",
    "\n",
    "                    #image = cv2.cvtColor(image, cv2.COLOR_BGR2GRAY)\n",
    "                    cropped = crop_image(image)\n",
    "                    resized = resize_image(cropped,nb_rows,nb_cols)                \n",
    "                    #batch_img = expand_dims(resized, axis=2)\n",
    "\n",
    "                    batch_data[folder,idx,:,:,:] = resized\n",
    "    #               batch_data[folder,idx,:,:,1] = norm_image[:,:,1]\n",
    "    #               batch_data[folder,idx,:,:,2] = norm_image[:,:,2]\n",
    "\n",
    "                batch_labels[folder, int(t[folder + (batch*batch_size)].strip().split(';')[2])] = 1\n",
    "            yield batch_data, batch_labels #you yield the batch_data and the batch_labels, remember what does yield do\n",
    "\n",
    "\n",
    "        # write the code for the remaining data points which are left after full batches\n",
    "       \n",
    "        diff_lst = list(set(t.tolist()).difference(set(batchnum_lst)))\n",
    "        rem_batch_size = len(diff_lst)\n",
    "        \n",
    "        if rem_batch_size > 0:\n",
    "            \n",
    "            batch_data = np.zeros((rem_batch_size,nb_frames,nb_rows,nb_cols,nb_channel))\n",
    "            batch_labels = np.zeros((rem_batch_size,nb_labels))\n",
    "\n",
    "            for folder_idx,folder in enumerate(diff_lst):\n",
    "\n",
    "                file_dir = folder.split(';')[0]           \n",
    "                label = int(folder.split(';')[2])\n",
    "                imgs = os.listdir(source_path + '/' + file_dir)\n",
    "\n",
    "                for idx,img in enumerate(imgs):\n",
    "\n",
    "                    image = imread(source_path + '/' + file_dir +'/'+ img).astype(np.float32)\n",
    "                    cropped = crop_image(image)\n",
    "                    resized = resize_image(cropped,nb_rows,nb_cols)\n",
    "                    #batch_img = expand_dims(resized, axis=2)\n",
    "                    batch_data[folder_idx,idx,:,:,:]=resized\n",
    "\n",
    "                batch_labels[folder_idx,label]=1\n",
    "           \n",
    "            yield batch_data,batch_labels "
   ]
  },
  {
   "cell_type": "markdown",
   "metadata": {},
   "source": [
    "Note here that a video is represented above in the generator as (number of images, height, width, number of channels). Take this into consideration while creating the model architecture."
   ]
  },
  {
   "cell_type": "code",
   "execution_count": 11,
   "metadata": {},
   "outputs": [
    {
     "name": "stdout",
     "output_type": "stream",
     "text": [
      "# training sequences = 663\n",
      "# validation sequences = 100\n",
      "# epochs = 20\n"
     ]
    }
   ],
   "source": [
    "curr_dt_time = datetime.datetime.now()\n",
    "train_path = './Project_data/train'\n",
    "val_path = './Project_data/val'\n",
    "num_train_sequences = len(train_doc)\n",
    "print('# training sequences =', num_train_sequences)\n",
    "num_val_sequences = len(val_doc)\n",
    "print('# validation sequences =', num_val_sequences)\n",
    "num_epochs = 20\n",
    "print ('# epochs =', num_epochs)\n"
   ]
  },
  {
   "cell_type": "markdown",
   "metadata": {},
   "source": [
    "## Model\n",
    "Here you make the model using different functionalities that Keras provides. Remember to use `Conv3D` and `MaxPooling3D` and not `Conv2D` and `Maxpooling2D` for a 3D convolution model. You would want to use `TimeDistributed` while building a Conv2D + RNN model. Also remember that the last layer is the softmax. Design the network in such a way that the model is able to give good accuracy on the least number of parameters so that it can fit in the memory of the webcam."
   ]
  },
  {
   "cell_type": "code",
   "execution_count": 12,
   "metadata": {},
   "outputs": [],
   "source": [
    "from keras.models import Sequential,Model\n",
    "from keras.layers import Dense,GRU,LSTM,Flatten,TimeDistributed,Flatten,BatchNormalization,Activation,Dropout,GlobalAveragePooling2D\n",
    "from keras.layers.convolutional import Conv3D,MaxPooling3D\n",
    "from keras.callbacks import ModelCheckpoint,ReduceLROnPlateau\n",
    "from keras import optimizers\n",
    "from keras.applications.vgg16 import VGG16\n",
    "from keras.applications.vgg19 import VGG19\n",
    "from keras.applications import ResNet50\n",
    "from keras.applications.resnet50 import preprocess_input\n",
    "\n",
    "#write your model here"
   ]
  },
  {
   "cell_type": "code",
   "execution_count": 13,
   "metadata": {},
   "outputs": [],
   "source": [
    "#conv 3d with batch normalization\n",
    "\n",
    "def build_conv3d_model():\n",
    "    \n",
    "    nb_filters = [8,16,32,64]\n",
    "    nb_dense = [256, 128, 5]\n",
    "\n",
    "    # Input\n",
    "    input_shape=(nb_frames,nb_rows,nb_cols,nb_channel)\n",
    "\n",
    "    # Define model\n",
    "    model = Sequential()\n",
    "\n",
    "    model.add(Conv3D(nb_filters[0], \n",
    "                     kernel_size=(3,3,3), \n",
    "                     strides=(1,1,1),                 \n",
    "                     input_shape=input_shape,\n",
    "                     padding='same'))\n",
    "\n",
    "    model.add(BatchNormalization())\n",
    "    model.add(Activation('relu'))\n",
    "\n",
    "    model.add(MaxPooling3D(pool_size=(2,2,2)))\n",
    "\n",
    "    model.add(Conv3D(nb_filters[1], \n",
    "                     kernel_size=(3,3,3),\n",
    "                     strides=(1,1,1),\n",
    "                     padding='same'))\n",
    "    model.add(BatchNormalization())\n",
    "    model.add(Activation('relu'))\n",
    "\n",
    "    model.add(MaxPooling3D(pool_size=(2,2,2)))\n",
    "\n",
    "    model.add(Conv3D(nb_filters[2], \n",
    "                     kernel_size=(1,3,3), \n",
    "                     strides=(1,1,1),\n",
    "                     padding='same'))\n",
    "    model.add(BatchNormalization())\n",
    "    model.add(Activation('relu'))\n",
    "\n",
    "    model.add(MaxPooling3D(pool_size=(2,2,2)))\n",
    "\n",
    "    model.add(Conv3D(nb_filters[3], \n",
    "                     kernel_size=(1,3,3), \n",
    "                     strides=(1,1,1),\n",
    "                     padding='same'))\n",
    "    model.add(Activation('relu'))\n",
    "    model.add(Dropout(0.25))\n",
    "\n",
    "    model.add(MaxPooling3D(pool_size=(2,2,2)))\n",
    "\n",
    "    #Flatten Layers\n",
    "    model.add(Flatten())\n",
    "\n",
    "    model.add(Dense(nb_dense[0], activation='relu'))\n",
    "    model.add(Dropout(0.5))\n",
    "\n",
    "    model.add(Dense(nb_dense[1], activation='relu'))\n",
    "    model.add(Dropout(0.5))\n",
    "\n",
    "    #softmax layer\n",
    "    model.add(Dense(nb_dense[2], activation='softmax'))\n",
    "    \n",
    "    return model\n",
    "    "
   ]
  },
  {
   "cell_type": "code",
   "execution_count": 14,
   "metadata": {},
   "outputs": [],
   "source": [
    "def build_conv2d_rnn_model():\n",
    "    \n",
    "    nb_filters = [8,16,32,64]\n",
    "    nb_dense = [256, 128, 5]\n",
    "    nb_rnn=[16,8]\n",
    "\n",
    "    # Input\n",
    "    input_shape=(nb_frames,nb_rows,nb_cols,nb_channel)\n",
    "\n",
    "\n",
    "    # Define model\n",
    "    model = Sequential()\n",
    "\n",
    "    model.add(TimeDistributed(Conv2D(\n",
    "                     nb_filters[0], \n",
    "                     kernel_size=(3,3), \n",
    "                     strides=(1,1),   \n",
    "                     padding='same'),\n",
    "                     input_shape=input_shape,\n",
    "                     ))\n",
    "\n",
    "    model.add(TimeDistributed(BatchNormalization()))\n",
    "    model.add(TimeDistributed(Activation('relu')))\n",
    "\n",
    "    model.add(TimeDistributed(MaxPooling2D(pool_size=(2,2))))\n",
    "\n",
    "    model.add(TimeDistributed(Conv2D(\n",
    "                     nb_filters[1], \n",
    "                     kernel_size=(3,3),\n",
    "                     strides=(1,1),\n",
    "                     padding='same')))\n",
    "    model.add(TimeDistributed(BatchNormalization()))\n",
    "    model.add(TimeDistributed(Activation('relu')))\n",
    "\n",
    "    model.add(TimeDistributed(MaxPooling2D(pool_size=(2,2))))\n",
    "\n",
    "    model.add(TimeDistributed(Conv2D(\n",
    "                     nb_filters[2], \n",
    "                     kernel_size=(3,3), \n",
    "                     strides=(1,1),\n",
    "                     padding='same')))\n",
    "\n",
    "    model.add(TimeDistributed(BatchNormalization()))        \n",
    "    model.add(TimeDistributed(Activation('relu')))\n",
    "\n",
    "    model.add(TimeDistributed(MaxPooling2D(pool_size=(2,2))))\n",
    "\n",
    "    # cnn.add(Conv2D(nb_filters[3], \n",
    "    #                  kernel_size=(1,3,3), \n",
    "    #                  strides=(1,1,1),\n",
    "    #                  padding='same'))\n",
    "    # cnn.add(Activation('relu'))\n",
    "    # cnn.add(Dropout(0.25))\n",
    "\n",
    "    # cnn.add(MaxPooling2D(pool_size=(2,2,2)))\n",
    "\n",
    "    model.add(TimeDistributed(Conv2D(\n",
    "                     nb_filters[2], \n",
    "                     kernel_size=(3,3), \n",
    "                     strides=(1,1),\n",
    "                     padding='same')))        \n",
    "\n",
    "    model.add(TimeDistributed(Activation('relu')))\n",
    "    model.add(TimeDistributed(Dropout(0.25)))\n",
    "\n",
    "    model.add(TimeDistributed(MaxPooling2D(pool_size=(2,2))))\n",
    "\n",
    "    # model.add(TimeDistributed(Conv2D(\n",
    "    #                  nb_filters[2], \n",
    "    #                  kernel_size=(3,3), \n",
    "    #                  strides=(1,1),\n",
    "    #                  padding='same')))        \n",
    "\n",
    "    # model.add(TimeDistributed(Activation('relu')))\n",
    "    # model.add(TimeDistributed(Dropout(0.25)))\n",
    "\n",
    "    # model.add(TimeDistributed(MaxPooling2D(pool_size=(2,2))))\n",
    "\n",
    "    #Flatten Layers\n",
    "    model.add(TimeDistributed(Flatten()))\n",
    "\n",
    "    model.add(GRU(nb_rnn[1], return_sequences=False, dropout=0.5))\n",
    "\n",
    "    model.add(Dense(nb_dense[0], activation='relu'))\n",
    "    model.add(Dropout(0.5))\n",
    "\n",
    "    model.add(Dense(nb_dense[1], activation='relu'))\n",
    "    model.add(Dropout(0.5))\n",
    "\n",
    "    #softmax layer\n",
    "    model.add(Dense(nb_dense[2], activation='softmax'))\n",
    "    \n",
    "    return model\n"
   ]
  },
  {
   "cell_type": "code",
   "execution_count": 15,
   "metadata": {},
   "outputs": [],
   "source": [
    "def build_vgg16_rnn_model():\n",
    "    \n",
    "    def build_vgg_16(in_shape,split_at=8):\n",
    "        \n",
    "        vgg = VGG16(weights=\"imagenet\", input_shape = in_shape, include_top = False)    \n",
    "        for layer in vgg.layers[:split_at]: layer.trainable = False\n",
    "        for layer in vgg.layers[split_at:]: layer.trainable = True\n",
    "            \n",
    "        return vgg\n",
    "    \n",
    "    nb_filters = [8,16,32,64]\n",
    "    nb_dense = [256, 128, 5]\n",
    "    nb_rnn=[256,8]\n",
    "\n",
    "    vgg_16_model = build_vgg_16((nb_rows,nb_cols,nb_channel))\n",
    "    # Input\n",
    "    input_shape=(nb_frames,nb_rows,nb_cols,nb_channel)\n",
    "\n",
    "    # Define model\n",
    "    model = Sequential()\n",
    "\n",
    "    model.add(TimeDistributed(vgg_16_model,\n",
    "                     input_shape=input_shape,\n",
    "                     ))\n",
    "    \n",
    "    model.add(TimeDistributed(GlobalAveragePooling2D()))\n",
    "\n",
    "    model.add(TimeDistributed(Flatten()))\n",
    "\n",
    "    model.add(GRU(nb_rnn[0], return_sequences=False, dropout=0.5))\n",
    "\n",
    "    model.add(Dense(nb_dense[0], activation='relu'))\n",
    "    model.add(Dropout(0.5))\n",
    "\n",
    "    model.add(Dense(nb_dense[1], activation='relu'))\n",
    "    model.add(Dropout(0.5))\n",
    "\n",
    "    #softmax layer\n",
    "    model.add(Dense(nb_dense[2], activation='softmax'))\n",
    "    \n",
    "    return model"
   ]
  },
  {
   "cell_type": "code",
   "execution_count": 16,
   "metadata": {},
   "outputs": [],
   "source": [
    "def build_vgg19_rnn_model():\n",
    "    \n",
    "    def build_vgg_19(in_shape,split_at=11):\n",
    "        \n",
    "        vgg = VGG19(weights=\"imagenet\", input_shape = in_shape, include_top = False)    \n",
    "        for layer in vgg.layers[:split_at]: layer.trainable = False\n",
    "        for layer in vgg.layers[split_at:]: layer.trainable = True\n",
    "            \n",
    "        return vgg\n",
    "    \n",
    "    nb_filters = [8,16,32,64]\n",
    "    nb_dense = [256, 128, 5]\n",
    "    nb_rnn=[256,8]\n",
    "\n",
    "    vgg_19_model = build_vgg_19((nb_rows,nb_cols,nb_channel))\n",
    "    # Input\n",
    "    input_shape=(nb_frames,nb_rows,nb_cols,nb_channel)\n",
    "\n",
    "    # Define model\n",
    "    model = Sequential()\n",
    "\n",
    "    model.add(TimeDistributed(vgg_19_model,\n",
    "                     input_shape=input_shape,\n",
    "                     ))\n",
    "    \n",
    "    model.add(TimeDistributed(GlobalAveragePooling2D()))\n",
    "\n",
    "    model.add(TimeDistributed(Flatten()))\n",
    "\n",
    "    model.add(GRU(nb_rnn[0], return_sequences=False, dropout=0.5))\n",
    "\n",
    "    model.add(Dense(nb_dense[0], activation='relu'))\n",
    "    model.add(Dropout(0.5))\n",
    "\n",
    "    model.add(Dense(nb_dense[1], activation='relu'))\n",
    "    model.add(Dropout(0.5))\n",
    "\n",
    "    #softmax layer\n",
    "    model.add(Dense(nb_dense[2], activation='softmax'))\n",
    "    \n",
    "    return model"
   ]
  },
  {
   "cell_type": "code",
   "execution_count": 17,
   "metadata": {},
   "outputs": [],
   "source": [
    "def build_resnet50_rnn_model(in_shape,split_at=140):\n",
    "    \n",
    "    def build_resnet50_model(in_shape,split_at=140):\n",
    "    \n",
    "    # Get base model: ResNet50 \n",
    "        resnet_model = ResNet50(weights='imagenet', include_top=False,input_shape = in_shape,)    \n",
    "        # freeze the layers in base model    \n",
    "        for layer in base_model.layers[:split_at]: layer.trainable = False\n",
    "        for layer in base_model.layers[split_at:]: layer.trainable = True\n",
    "        \n",
    "        return resnet_model\n",
    "    \n",
    "    nb_filters = [8,16,32,64]\n",
    "    nb_dense = [256, 128, 5]\n",
    "    nb_rnn=[16,8]\n",
    "\n",
    "    resnet50_model = build_resnet50_model((nb_rows,nb_cols,nb_channel))\n",
    "    # Input\n",
    "    input_shape=(nb_frames,nb_rows,nb_cols,nb_channel)\n",
    "\n",
    "    # Define model\n",
    "    model = Sequential()\n",
    "\n",
    "    model.add(TimeDistributed(resnet50_model,\n",
    "                     input_shape=input_shape,\n",
    "                     ))\n",
    "    \n",
    "    model.add(TimeDistributed(GlobalAveragePooling2D()))\n",
    "\n",
    "    model.add(TimeDistributed(Flatten()))\n",
    "\n",
    "    model.add(GRU(nb_rnn[1], return_sequences=False, dropout=0.5))\n",
    "\n",
    "    model.add(Dense(nb_dense[0], activation='relu'))\n",
    "    model.add(Dropout(0.5))\n",
    "\n",
    "    model.add(Dense(nb_dense[1], activation='relu'))\n",
    "    model.add(Dropout(0.5))\n",
    "\n",
    "    #softmax layer\n",
    "    model.add(Dense(nb_dense[2], activation='softmax'))\n",
    "    \n",
    "    return model"
   ]
  },
  {
   "cell_type": "markdown",
   "metadata": {},
   "source": [
    "Now that you have written the model, the next step is to `compile` the model. When you print the `summary` of the model, you'll see the total number of parameters you have to train."
   ]
  },
  {
   "cell_type": "code",
   "execution_count": 18,
   "metadata": {},
   "outputs": [],
   "source": [
    "def get_optimizer(optimizer='adam'):\n",
    "    if optimizer=='adam':\n",
    "        return optimizers.Adam()\n",
    "    elif optimizer =='sgd':\n",
    "        return optimizers.SGD()      "
   ]
  },
  {
   "cell_type": "code",
   "execution_count": 19,
   "metadata": {},
   "outputs": [],
   "source": [
    "model = build_conv3d_model()\n",
    "optimiser = get_optimizer(optimizer='adam')"
   ]
  },
  {
   "cell_type": "code",
   "execution_count": 20,
   "metadata": {
    "scrolled": true
   },
   "outputs": [
    {
     "name": "stdout",
     "output_type": "stream",
     "text": [
      "_________________________________________________________________\n",
      "Layer (type)                 Output Shape              Param #   \n",
      "=================================================================\n",
      "conv3d_1 (Conv3D)            (None, 30, 120, 120, 8)   224       \n",
      "_________________________________________________________________\n",
      "batch_normalization_1 (Batch (None, 30, 120, 120, 8)   32        \n",
      "_________________________________________________________________\n",
      "activation_1 (Activation)    (None, 30, 120, 120, 8)   0         \n",
      "_________________________________________________________________\n",
      "max_pooling3d_1 (MaxPooling3 (None, 15, 60, 60, 8)     0         \n",
      "_________________________________________________________________\n",
      "conv3d_2 (Conv3D)            (None, 15, 60, 60, 16)    3472      \n",
      "_________________________________________________________________\n",
      "batch_normalization_2 (Batch (None, 15, 60, 60, 16)    64        \n",
      "_________________________________________________________________\n",
      "activation_2 (Activation)    (None, 15, 60, 60, 16)    0         \n",
      "_________________________________________________________________\n",
      "max_pooling3d_2 (MaxPooling3 (None, 7, 30, 30, 16)     0         \n",
      "_________________________________________________________________\n",
      "conv3d_3 (Conv3D)            (None, 7, 30, 30, 32)     4640      \n",
      "_________________________________________________________________\n",
      "batch_normalization_3 (Batch (None, 7, 30, 30, 32)     128       \n",
      "_________________________________________________________________\n",
      "activation_3 (Activation)    (None, 7, 30, 30, 32)     0         \n",
      "_________________________________________________________________\n",
      "max_pooling3d_3 (MaxPooling3 (None, 3, 15, 15, 32)     0         \n",
      "_________________________________________________________________\n",
      "conv3d_4 (Conv3D)            (None, 3, 15, 15, 64)     18496     \n",
      "_________________________________________________________________\n",
      "activation_4 (Activation)    (None, 3, 15, 15, 64)     0         \n",
      "_________________________________________________________________\n",
      "dropout_1 (Dropout)          (None, 3, 15, 15, 64)     0         \n",
      "_________________________________________________________________\n",
      "max_pooling3d_4 (MaxPooling3 (None, 1, 7, 7, 64)       0         \n",
      "_________________________________________________________________\n",
      "flatten_1 (Flatten)          (None, 3136)              0         \n",
      "_________________________________________________________________\n",
      "dense_1 (Dense)              (None, 256)               803072    \n",
      "_________________________________________________________________\n",
      "dropout_2 (Dropout)          (None, 256)               0         \n",
      "_________________________________________________________________\n",
      "dense_2 (Dense)              (None, 128)               32896     \n",
      "_________________________________________________________________\n",
      "dropout_3 (Dropout)          (None, 128)               0         \n",
      "_________________________________________________________________\n",
      "dense_3 (Dense)              (None, 5)                 645       \n",
      "=================================================================\n",
      "Total params: 863,669\n",
      "Trainable params: 863,557\n",
      "Non-trainable params: 112\n",
      "_________________________________________________________________\n",
      "None\n"
     ]
    }
   ],
   "source": [
    "model.compile(optimizer=optimiser, loss='categorical_crossentropy', metrics=['categorical_accuracy'])\n",
    "print (model.summary())"
   ]
  },
  {
   "cell_type": "markdown",
   "metadata": {},
   "source": [
    "Let us create the `train_generator` and the `val_generator` which will be used in `.fit_generator`."
   ]
  },
  {
   "cell_type": "code",
   "execution_count": 21,
   "metadata": {},
   "outputs": [],
   "source": [
    "if nb_channel==1:\n",
    "    train_generator = b2g_image_generator(train_path, train_doc, batch_size)\n",
    "    val_generator = b2g_image_generator(val_path, val_doc, batch_size)\n",
    "elif nb_channel==3:\n",
    "    train_generator = rgb_image_generator(train_path, train_doc, batch_size)\n",
    "    val_generator = rgb_image_generator(val_path, val_doc, batch_size)\n",
    "    "
   ]
  },
  {
   "cell_type": "code",
   "execution_count": 22,
   "metadata": {},
   "outputs": [],
   "source": [
    "model_name = 'model_init' + '_' + str(curr_dt_time).replace(' ','').replace(':','_') + '/'\n",
    "    \n",
    "if not os.path.exists(model_name):\n",
    "    os.mkdir(model_name)\n",
    "        \n",
    "filepath = model_name + 'model-{epoch:05d}-{loss:.5f}-{categorical_accuracy:.5f}-{val_loss:.5f}-{val_categorical_accuracy:.5f}.h5'\n",
    "\n",
    "checkpoint = ModelCheckpoint(filepath, monitor='val_loss', verbose=1, save_best_only=False, save_weights_only=False, mode='auto', period=1)\n",
    "\n",
    "LR = ReduceLROnPlateau(monitor='val_loss', factor=0.5, patience=2, cooldown=1, verbose=1)\n",
    "callbacks_list = [checkpoint, LR]\n"
   ]
  },
  {
   "cell_type": "markdown",
   "metadata": {},
   "source": [
    "The `steps_per_epoch` and `validation_steps` are used by `fit_generator` to decide the number of next() calls it need to make."
   ]
  },
  {
   "cell_type": "code",
   "execution_count": 23,
   "metadata": {},
   "outputs": [],
   "source": [
    "if (num_train_sequences%batch_size) == 0:\n",
    "    steps_per_epoch = int(num_train_sequences/batch_size)\n",
    "else:\n",
    "    steps_per_epoch = (num_train_sequences//batch_size) + 1\n",
    "\n",
    "if (num_val_sequences%batch_size) == 0:\n",
    "    validation_steps = int(num_val_sequences/batch_size)\n",
    "else:\n",
    "    validation_steps = (num_val_sequences//batch_size) + 1"
   ]
  },
  {
   "cell_type": "markdown",
   "metadata": {},
   "source": [
    "Let us now fit the model. This will start training the model and with the help of the checkpoints, you'll be able to save the model at the end of each epoch."
   ]
  },
  {
   "cell_type": "code",
   "execution_count": 24,
   "metadata": {
    "scrolled": true
   },
   "outputs": [
    {
     "name": "stdout",
     "output_type": "stream",
     "text": [
      "Epoch 1/20\n"
     ]
    },
    {
     "name": "stderr",
     "output_type": "stream",
     "text": [
      "/mnt/disks/user/anaconda3/lib/python3.6/site-packages/ipykernel_launcher.py:18: DeprecationWarning: `imread` is deprecated!\n",
      "`imread` is deprecated in SciPy 1.0.0, and will be removed in 1.2.0.\n",
      "Use ``imageio.imread`` instead.\n"
     ]
    },
    {
     "name": "stdout",
     "output_type": "stream",
     "text": [
      "65/67 [============================>.] - ETA: 5s - loss: 1.9284 - categorical_accuracy: 0.2400"
     ]
    },
    {
     "name": "stderr",
     "output_type": "stream",
     "text": [
      "/mnt/disks/user/anaconda3/lib/python3.6/site-packages/ipykernel_launcher.py:56: DeprecationWarning: `imread` is deprecated!\n",
      "`imread` is deprecated in SciPy 1.0.0, and will be removed in 1.2.0.\n",
      "Use ``imageio.imread`` instead.\n"
     ]
    },
    {
     "name": "stdout",
     "output_type": "stream",
     "text": [
      "67/67 [==============================] - 170s 3s/step - loss: 1.9177 - categorical_accuracy: 0.2388 - val_loss: 1.5265 - val_categorical_accuracy: 0.3100\n",
      "\n",
      "Epoch 00001: saving model to model_init_2019-10-2804_33_03.045348/model-00001-1.92126-0.24133-1.52653-0.31000.h5\n",
      "Epoch 2/20\n",
      "67/67 [==============================] - 48s 715ms/step - loss: 1.4652 - categorical_accuracy: 0.3448 - val_loss: 1.3728 - val_categorical_accuracy: 0.4600\n",
      "\n",
      "Epoch 00002: saving model to model_init_2019-10-2804_33_03.045348/model-00002-1.46524-0.34478-1.37282-0.46000.h5\n",
      "Epoch 3/20\n",
      "67/67 [==============================] - 49s 732ms/step - loss: 1.3703 - categorical_accuracy: 0.4030 - val_loss: 1.2794 - val_categorical_accuracy: 0.5000\n",
      "\n",
      "Epoch 00003: saving model to model_init_2019-10-2804_33_03.045348/model-00003-1.37026-0.40299-1.27944-0.50000.h5\n",
      "Epoch 4/20\n",
      "67/67 [==============================] - 49s 729ms/step - loss: 1.2521 - categorical_accuracy: 0.4612 - val_loss: 1.1958 - val_categorical_accuracy: 0.5400\n",
      "\n",
      "Epoch 00004: saving model to model_init_2019-10-2804_33_03.045348/model-00004-1.25208-0.46119-1.19579-0.54000.h5\n",
      "Epoch 5/20\n",
      "67/67 [==============================] - 49s 736ms/step - loss: 1.1065 - categorical_accuracy: 0.5463 - val_loss: 1.2236 - val_categorical_accuracy: 0.4700\n",
      "\n",
      "Epoch 00005: saving model to model_init_2019-10-2804_33_03.045348/model-00005-1.10654-0.54627-1.22357-0.47000.h5\n",
      "Epoch 6/20\n",
      "67/67 [==============================] - 49s 738ms/step - loss: 0.9854 - categorical_accuracy: 0.6164 - val_loss: 1.0235 - val_categorical_accuracy: 0.5600\n",
      "\n",
      "Epoch 00006: saving model to model_init_2019-10-2804_33_03.045348/model-00006-0.98537-0.61642-1.02350-0.56000.h5\n",
      "Epoch 7/20\n",
      "67/67 [==============================] - 49s 733ms/step - loss: 0.8855 - categorical_accuracy: 0.6552 - val_loss: 0.7307 - val_categorical_accuracy: 0.7400\n",
      "\n",
      "Epoch 00007: saving model to model_init_2019-10-2804_33_03.045348/model-00007-0.88547-0.65522-0.73071-0.74000.h5\n",
      "Epoch 8/20\n",
      "67/67 [==============================] - 50s 741ms/step - loss: 0.7047 - categorical_accuracy: 0.7493 - val_loss: 1.0214 - val_categorical_accuracy: 0.5900\n",
      "\n",
      "Epoch 00008: saving model to model_init_2019-10-2804_33_03.045348/model-00008-0.70469-0.74925-1.02137-0.59000.h5\n",
      "Epoch 9/20\n",
      "67/67 [==============================] - 49s 733ms/step - loss: 0.7078 - categorical_accuracy: 0.7433 - val_loss: 0.7388 - val_categorical_accuracy: 0.6900\n",
      "\n",
      "Epoch 00009: saving model to model_init_2019-10-2804_33_03.045348/model-00009-0.70781-0.74328-0.73884-0.69000.h5\n",
      "\n",
      "Epoch 00009: ReduceLROnPlateau reducing learning rate to 0.0005000000237487257.\n",
      "Epoch 10/20\n",
      "67/67 [==============================] - 50s 747ms/step - loss: 0.5300 - categorical_accuracy: 0.8030 - val_loss: 0.9621 - val_categorical_accuracy: 0.6300\n",
      "\n",
      "Epoch 00010: saving model to model_init_2019-10-2804_33_03.045348/model-00010-0.52997-0.80299-0.96215-0.63000.h5\n",
      "Epoch 11/20\n",
      "67/67 [==============================] - 50s 741ms/step - loss: 0.4549 - categorical_accuracy: 0.8254 - val_loss: 0.5817 - val_categorical_accuracy: 0.7800\n",
      "\n",
      "Epoch 00011: saving model to model_init_2019-10-2804_33_03.045348/model-00011-0.45492-0.82537-0.58170-0.78000.h5\n",
      "Epoch 12/20\n",
      "67/67 [==============================] - 50s 742ms/step - loss: 0.3836 - categorical_accuracy: 0.8687 - val_loss: 0.7070 - val_categorical_accuracy: 0.7500\n",
      "\n",
      "Epoch 00012: saving model to model_init_2019-10-2804_33_03.045348/model-00012-0.38363-0.86866-0.70698-0.75000.h5\n",
      "Epoch 13/20\n",
      "67/67 [==============================] - 49s 727ms/step - loss: 0.3025 - categorical_accuracy: 0.8910 - val_loss: 0.5925 - val_categorical_accuracy: 0.7800\n",
      "\n",
      "Epoch 00013: saving model to model_init_2019-10-2804_33_03.045348/model-00013-0.30250-0.89104-0.59251-0.78000.h5\n",
      "\n",
      "Epoch 00013: ReduceLROnPlateau reducing learning rate to 0.0002500000118743628.\n",
      "Epoch 14/20\n",
      "67/67 [==============================] - 50s 740ms/step - loss: 0.2666 - categorical_accuracy: 0.9090 - val_loss: 0.6165 - val_categorical_accuracy: 0.7900\n",
      "\n",
      "Epoch 00014: saving model to model_init_2019-10-2804_33_03.045348/model-00014-0.26660-0.90896-0.61648-0.79000.h5\n",
      "Epoch 15/20\n",
      "67/67 [==============================] - 50s 746ms/step - loss: 0.2356 - categorical_accuracy: 0.9164 - val_loss: 0.6504 - val_categorical_accuracy: 0.7200\n",
      "\n",
      "Epoch 00015: saving model to model_init_2019-10-2804_33_03.045348/model-00015-0.23556-0.91642-0.65040-0.72000.h5\n",
      "\n",
      "Epoch 00015: ReduceLROnPlateau reducing learning rate to 0.0001250000059371814.\n",
      "Epoch 16/20\n",
      "67/67 [==============================] - 50s 746ms/step - loss: 0.2212 - categorical_accuracy: 0.9254 - val_loss: 0.6127 - val_categorical_accuracy: 0.8200\n",
      "\n",
      "Epoch 00016: saving model to model_init_2019-10-2804_33_03.045348/model-00016-0.22123-0.92537-0.61270-0.82000.h5\n",
      "Epoch 17/20\n",
      "67/67 [==============================] - 48s 718ms/step - loss: 0.1921 - categorical_accuracy: 0.9388 - val_loss: 0.5726 - val_categorical_accuracy: 0.8200\n",
      "\n",
      "Epoch 00017: saving model to model_init_2019-10-2804_33_03.045348/model-00017-0.19211-0.93881-0.57257-0.82000.h5\n",
      "Epoch 18/20\n",
      "67/67 [==============================] - 51s 763ms/step - loss: 0.1588 - categorical_accuracy: 0.9537 - val_loss: 0.6043 - val_categorical_accuracy: 0.8000\n",
      "\n",
      "Epoch 00018: saving model to model_init_2019-10-2804_33_03.045348/model-00018-0.15878-0.95373-0.60432-0.80000.h5\n",
      "Epoch 19/20\n",
      "67/67 [==============================] - 49s 726ms/step - loss: 0.1467 - categorical_accuracy: 0.9478 - val_loss: 0.6056 - val_categorical_accuracy: 0.7700\n",
      "\n",
      "Epoch 00019: saving model to model_init_2019-10-2804_33_03.045348/model-00019-0.14669-0.94776-0.60561-0.77000.h5\n",
      "\n",
      "Epoch 00019: ReduceLROnPlateau reducing learning rate to 6.25000029685907e-05.\n",
      "Epoch 20/20\n",
      "67/67 [==============================] - 50s 750ms/step - loss: 0.1530 - categorical_accuracy: 0.9507 - val_loss: 0.5968 - val_categorical_accuracy: 0.8000\n",
      "\n",
      "Epoch 00020: saving model to model_init_2019-10-2804_33_03.045348/model-00020-0.15300-0.95075-0.59679-0.80000.h5\n"
     ]
    },
    {
     "data": {
      "text/plain": [
       "<keras.callbacks.History at 0x7f2ecc278160>"
      ]
     },
     "execution_count": 24,
     "metadata": {},
     "output_type": "execute_result"
    }
   ],
   "source": [
    "model.fit_generator(train_generator, steps_per_epoch=steps_per_epoch, epochs=num_epochs, verbose=1, \n",
    "                    callbacks=callbacks_list, validation_data=val_generator, \n",
    "                    validation_steps=validation_steps, class_weight=None, workers=1, initial_epoch=0)"
   ]
  },
  {
   "cell_type": "code",
   "execution_count": 25,
   "metadata": {},
   "outputs": [
    {
     "name": "stdout",
     "output_type": "stream",
     "text": [
      "json schema to disk\n",
      "Saved model to disk\n"
     ]
    }
   ],
   "source": [
    "  # Save model.\n",
    "model_json = model.to_json()\n",
    "with open(\"./video_classifier_conv3d_rgb_model.json\", \"w\") as json_file:\n",
    "      json_file.write(model_json)\n",
    "\n",
    "print(\"json schema to disk\")\n",
    "# serialize weights to HDF5\n",
    "model.save_weights(\"./video_classifier_conv3d_rgb_model.h5\")\n",
    "#model.save('/content/drive/My Drive/MLP/intent_classifier_mlp_model.h5')\n",
    "\n",
    "print(\"Saved model to disk\")"
   ]
  },
  {
   "cell_type": "code",
   "execution_count": null,
   "metadata": {},
   "outputs": [],
   "source": []
  }
 ],
 "metadata": {
  "kernelspec": {
   "display_name": "Python 3",
   "language": "python",
   "name": "python3"
  },
  "language_info": {
   "codemirror_mode": {
    "name": "ipython",
    "version": 3
   },
   "file_extension": ".py",
   "mimetype": "text/x-python",
   "name": "python",
   "nbconvert_exporter": "python",
   "pygments_lexer": "ipython3",
   "version": "3.6.5"
  }
 },
 "nbformat": 4,
 "nbformat_minor": 2
}
